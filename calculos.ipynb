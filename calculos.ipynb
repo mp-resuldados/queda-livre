{
 "cells": [
  {
   "cell_type": "code",
   "execution_count": 1,
   "id": "838355a3-0f79-4ece-9dc1-499c205ebe23",
   "metadata": {},
   "outputs": [],
   "source": [
    "import datetime\n",
    "import pandas as pd\n",
    "import numpy as np\n",
    "import seaborn as sns\n",
    "import matplotlib as mpl\n",
    "import matplotlib.pyplot as plt\n",
    "from random import seed\n",
    "from random import gauss\n",
    "import random\n",
    "from collections import Counter"
   ]
  },
  {
   "cell_type": "code",
   "execution_count": 2,
   "id": "eb9723bc-8d18-45aa-99d9-0ad1d6b7659d",
   "metadata": {
    "tags": []
   },
   "outputs": [],
   "source": [
    "# funções auxiliares\n",
    "\n",
    "from math import log10, floor\n",
    "\n",
    "def round_it(x, sig):\n",
    "    return round(x, sig - int(floor(log10(abs(x)))) - 1)\n"
   ]
  },
  {
   "cell_type": "markdown",
   "id": "8f1188d0-6acb-4923-99d7-ba54dbdca642",
   "metadata": {},
   "source": [
    "# Tempo de queda da esfera"
   ]
  },
  {
   "cell_type": "markdown",
   "id": "5dd78782-7b25-44f8-878d-8bd068249636",
   "metadata": {},
   "source": [
    "Expressão para o tempo de queda de uma altura de 1.5 m"
   ]
  },
  {
   "cell_type": "code",
   "execution_count": 3,
   "id": "704d2b17-a9c2-4c7a-b182-574e57a66d49",
   "metadata": {
    "tags": []
   },
   "outputs": [
    {
     "data": {
      "text/plain": [
       "0.5536252478513619"
      ]
     },
     "execution_count": 3,
     "metadata": {},
     "output_type": "execute_result"
    }
   ],
   "source": [
    "g = 9.787899\n",
    "h = 1.5\n",
    "t = (2*h/g) **(0.5)\n",
    "t"
   ]
  },
  {
   "cell_type": "markdown",
   "id": "c26bc119-7e13-4ba4-abfa-030a3b43243c",
   "metadata": {},
   "source": [
    "Incerteza estimada"
   ]
  },
  {
   "cell_type": "code",
   "execution_count": 4,
   "id": "944843ee-7d53-474b-b9d5-2d392b5e3868",
   "metadata": {
    "tags": []
   },
   "outputs": [
    {
     "data": {
      "text/plain": [
       "(0.004, 0.01, 0.5)"
      ]
     },
     "execution_count": 4,
     "metadata": {},
     "output_type": "execute_result"
    }
   ],
   "source": [
    "erro_h = 0.02\n",
    "erro_t_prop = round_it(0.5*t*erro_h/h,1)\n",
    "erro_t_crono = 0.01\n",
    "erro_t_reacao = 2*0.25\n",
    "erro_t_prop, erro_t_crono, erro_t_reacao"
   ]
  },
  {
   "cell_type": "markdown",
   "id": "61d98cbd-0f1f-4b05-bd43-e6b7907153fe",
   "metadata": {},
   "source": [
    "## Dados reais para o cálculo do desvio padrão "
   ]
  },
  {
   "cell_type": "code",
   "execution_count": 5,
   "id": "1345fe6c-e1ff-4d19-b80f-88ea7a1f96db",
   "metadata": {
    "tags": []
   },
   "outputs": [
    {
     "data": {
      "text/html": [
       "<div>\n",
       "<style scoped>\n",
       "    .dataframe tbody tr th:only-of-type {\n",
       "        vertical-align: middle;\n",
       "    }\n",
       "\n",
       "    .dataframe tbody tr th {\n",
       "        vertical-align: top;\n",
       "    }\n",
       "\n",
       "    .dataframe thead th {\n",
       "        text-align: right;\n",
       "    }\n",
       "</style>\n",
       "<table border=\"1\" class=\"dataframe\">\n",
       "  <thead>\n",
       "    <tr style=\"text-align: right;\">\n",
       "      <th></th>\n",
       "      <th>tempos</th>\n",
       "    </tr>\n",
       "  </thead>\n",
       "  <tbody>\n",
       "    <tr>\n",
       "      <th>0</th>\n",
       "      <td>0.31</td>\n",
       "    </tr>\n",
       "    <tr>\n",
       "      <th>1</th>\n",
       "      <td>0.53</td>\n",
       "    </tr>\n",
       "    <tr>\n",
       "      <th>2</th>\n",
       "      <td>0.44</td>\n",
       "    </tr>\n",
       "    <tr>\n",
       "      <th>3</th>\n",
       "      <td>0.65</td>\n",
       "    </tr>\n",
       "    <tr>\n",
       "      <th>4</th>\n",
       "      <td>0.40</td>\n",
       "    </tr>\n",
       "    <tr>\n",
       "      <th>...</th>\n",
       "      <td>...</td>\n",
       "    </tr>\n",
       "    <tr>\n",
       "      <th>595</th>\n",
       "      <td>0.63</td>\n",
       "    </tr>\n",
       "    <tr>\n",
       "      <th>596</th>\n",
       "      <td>0.64</td>\n",
       "    </tr>\n",
       "    <tr>\n",
       "      <th>597</th>\n",
       "      <td>0.64</td>\n",
       "    </tr>\n",
       "    <tr>\n",
       "      <th>598</th>\n",
       "      <td>0.62</td>\n",
       "    </tr>\n",
       "    <tr>\n",
       "      <th>599</th>\n",
       "      <td>0.62</td>\n",
       "    </tr>\n",
       "  </tbody>\n",
       "</table>\n",
       "<p>600 rows × 1 columns</p>\n",
       "</div>"
      ],
      "text/plain": [
       "     tempos\n",
       "0      0.31\n",
       "1      0.53\n",
       "2      0.44\n",
       "3      0.65\n",
       "4      0.40\n",
       "..      ...\n",
       "595    0.63\n",
       "596    0.64\n",
       "597    0.64\n",
       "598    0.62\n",
       "599    0.62\n",
       "\n",
       "[600 rows x 1 columns]"
      ]
     },
     "execution_count": 5,
     "metadata": {},
     "output_type": "execute_result"
    }
   ],
   "source": [
    "tempos = pd.read_csv('tempos.csv')\n",
    "tempos"
   ]
  },
  {
   "cell_type": "code",
   "execution_count": 6,
   "id": "78535dea-57d9-45c1-b932-2482794ff479",
   "metadata": {
    "tags": []
   },
   "outputs": [
    {
     "data": {
      "text/plain": [
       "<Axes: ylabel='Count'>"
      ]
     },
     "execution_count": 6,
     "metadata": {},
     "output_type": "execute_result"
    },
    {
     "data": {
      "image/png": "[encoded data removed]",
      "text/plain": [
       "<Figure size 640x480 with 1 Axes>"
      ]
     },
     "metadata": {},
     "output_type": "display_data"
    }
   ],
   "source": [
    "sns.histplot(tempos)"
   ]
  },
  {
   "cell_type": "code",
   "execution_count": 7,
   "id": "22938095-e3c8-46c5-96cd-c97d7c7c0f83",
   "metadata": {
    "tags": []
   },
   "outputs": [
    {
     "data": {
      "text/html": [
       "<div>\n",
       "<style scoped>\n",
       "    .dataframe tbody tr th:only-of-type {\n",
       "        vertical-align: middle;\n",
       "    }\n",
       "\n",
       "    .dataframe tbody tr th {\n",
       "        vertical-align: top;\n",
       "    }\n",
       "\n",
       "    .dataframe thead th {\n",
       "        text-align: right;\n",
       "    }\n",
       "</style>\n",
       "<table border=\"1\" class=\"dataframe\">\n",
       "  <thead>\n",
       "    <tr style=\"text-align: right;\">\n",
       "      <th></th>\n",
       "      <th>tempos</th>\n",
       "    </tr>\n",
       "  </thead>\n",
       "  <tbody>\n",
       "    <tr>\n",
       "      <th>count</th>\n",
       "      <td>600.000000</td>\n",
       "    </tr>\n",
       "    <tr>\n",
       "      <th>mean</th>\n",
       "      <td>0.503267</td>\n",
       "    </tr>\n",
       "    <tr>\n",
       "      <th>std</th>\n",
       "      <td>0.104925</td>\n",
       "    </tr>\n",
       "    <tr>\n",
       "      <th>min</th>\n",
       "      <td>0.220000</td>\n",
       "    </tr>\n",
       "    <tr>\n",
       "      <th>25%</th>\n",
       "      <td>0.430000</td>\n",
       "    </tr>\n",
       "    <tr>\n",
       "      <th>50%</th>\n",
       "      <td>0.520000</td>\n",
       "    </tr>\n",
       "    <tr>\n",
       "      <th>75%</th>\n",
       "      <td>0.590000</td>\n",
       "    </tr>\n",
       "    <tr>\n",
       "      <th>max</th>\n",
       "      <td>0.750000</td>\n",
       "    </tr>\n",
       "  </tbody>\n",
       "</table>\n",
       "</div>"
      ],
      "text/plain": [
       "           tempos\n",
       "count  600.000000\n",
       "mean     0.503267\n",
       "std      0.104925\n",
       "min      0.220000\n",
       "25%      0.430000\n",
       "50%      0.520000\n",
       "75%      0.590000\n",
       "max      0.750000"
      ]
     },
     "execution_count": 7,
     "metadata": {},
     "output_type": "execute_result"
    }
   ],
   "source": [
    "tempos.describe()"
   ]
  },
  {
   "cell_type": "code",
   "execution_count": 8,
   "id": "ce82538d-37e8-4f79-982b-8c90ab2c6726",
   "metadata": {
    "tags": []
   },
   "outputs": [
    {
     "data": {
      "text/plain": [
       "0.10492542333959805"
      ]
     },
     "execution_count": 8,
     "metadata": {},
     "output_type": "execute_result"
    }
   ],
   "source": [
    "desvio_padrao = tempos.std().item()\n",
    "desvio_padrao"
   ]
  },
  {
   "cell_type": "markdown",
   "id": "a841233c-ee5d-418e-ac3b-1a4859b0edbb",
   "metadata": {},
   "source": [
    "## Simulação"
   ]
  },
  {
   "cell_type": "code",
   "execution_count": 9,
   "id": "483b23f3-cf04-4f97-bc73-12005013f2ca",
   "metadata": {
    "tags": []
   },
   "outputs": [],
   "source": [
    "def medidas(N_conj, N_medidas, h, desvio_padrao):\n",
    "    t = (2*h/9.787899) **(0.5)\n",
    "    medidas = pd.Series()\n",
    "    estatistica = pd.DataFrame(columns = ['media', 'desvio', 'incerteza'])\n",
    "\n",
    "    for i in range(N_conj):\n",
    "        \n",
    "        med = pd.Series([  round(gauss(t,desvio_padrao),2)   for i in range(N_medidas)])\n",
    "        medidas = pd.concat([medidas, med])\n",
    "        \n",
    "        est = pd.DataFrame({'media':[medidas.mean()],'desvio':[medidas.std()], 'incerteza':[medidas.std()/((i+1)*N_medidas)**0.5]})\n",
    "        estatistica = pd.concat([estatistica, est])\n",
    "    \n",
    "    return medidas, estatistica.reset_index()"
   ]
  },
  {
   "cell_type": "markdown",
   "id": "77abb890-ccde-4e7f-95e2-d841b97712c0",
   "metadata": {},
   "source": [
    "### Primeiro conjunto de teste"
   ]
  },
  {
   "cell_type": "code",
   "execution_count": 10,
   "id": "5cb31f07-0ac2-46be-baa7-05fd1ca74d60",
   "metadata": {
    "tags": []
   },
   "outputs": [],
   "source": [
    "n_conj = 100\n",
    "n_medidas = 100 # por conjunto\n",
    "h = 1.5\n",
    "desvio_padrao = 0.1\n",
    "m1, e1 = medidas(n_conj, n_medidas, h, desvio_padrao)"
   ]
  },
  {
   "cell_type": "code",
   "execution_count": 11,
   "id": "4af54a32-0d97-4741-b600-e7fb6c98910e",
   "metadata": {
    "tags": []
   },
   "outputs": [],
   "source": [
    "def plot_medias(estatistica, h):\n",
    "    fig, ax = plt.subplots()\n",
    "\n",
    "    t = (2*h/9.787899) **(0.5)\n",
    "\n",
    "    # valor de referência\n",
    "    ax.axhline(t,\n",
    "    color='blue',\n",
    "    linestyle='dashed',\n",
    "    label='valor de referência'\n",
    "    )\n",
    "  \n",
    "\n",
    "    # média e incerteza\n",
    "    ax.errorbar(\n",
    "        estatistica.index,\n",
    "        estatistica['media'],\n",
    "        yerr = estatistica['incerteza'],\n",
    "        color='orange',\n",
    "        marker='.',\n",
    "        linestyle='none',\n",
    "        #label=''\n",
    "    )\n",
    "    \n",
    "    ax.set_title('Médias')\n",
    "    ax.set_xlabel('conjuntos de medidas')\n",
    "    ax.set_ylabel('tempo de queda (s)')\n",
    "    ax.legend(loc='upper center', ncols=1)\n",
    "    \n",
    "    ax.text(\n",
    "            0.5,\n",
    "            0.5,\n",
    "            \"MP-resuldados\",\n",
    "            transform=ax.transAxes,\n",
    "            fontsize=40,\n",
    "            color=\"gray\",\n",
    "            alpha=0.1,\n",
    "            ha=\"center\",\n",
    "            va=\"center\",\n",
    "            rotation=45,\n",
    "        )\n",
    "    \n",
    "    return fig, ax"
   ]
  },
  {
   "cell_type": "code",
   "execution_count": 12,
   "id": "b329a700-46b6-4432-9bb3-acff5ca6e57a",
   "metadata": {
    "tags": []
   },
   "outputs": [
    {
     "data": {
      "text/plain": [
       "(<Figure size 640x480 with 1 Axes>,\n",
       " <Axes: title={'center': 'Médias'}, xlabel='conjuntos de medidas', ylabel='tempo de queda (s)'>)"
      ]
     },
     "execution_count": 12,
     "metadata": {},
     "output_type": "execute_result"
    },
    {
     "data": {
      "image/png": "[encoded data removed]",
      "text/plain": [
       "<Figure size 640x480 with 1 Axes>"
      ]
     },
     "metadata": {},
     "output_type": "display_data"
    }
   ],
   "source": [
    "plot_medias(e1, 1.5)"
   ]
  },
  {
   "cell_type": "markdown",
   "id": "8338c0aa-27e5-4028-8b9b-69231335380b",
   "metadata": {},
   "source": [
    "### Histogramas"
   ]
  },
  {
   "cell_type": "code",
   "execution_count": 23,
   "id": "51cf6b63-a8dc-4c65-b05f-3c111ede65c0",
   "metadata": {
    "tags": []
   },
   "outputs": [
    {
     "data": {
      "text/plain": [
       "[(0.56, 444),\n",
       " (0.58, 407),\n",
       " (0.57, 397),\n",
       " (0.51, 387),\n",
       " (0.55, 382),\n",
       " (0.54, 382),\n",
       " (0.53, 376),\n",
       " (0.61, 369),\n",
       " (0.6, 364),\n",
       " (0.59, 343),\n",
       " (0.5, 340),\n",
       " (0.52, 330),\n",
       " (0.62, 315),\n",
       " (0.48, 314),\n",
       " (0.49, 313),\n",
       " (0.63, 306),\n",
       " (0.64, 273),\n",
       " (0.47, 271),\n",
       " (0.46, 255),\n",
       " (0.66, 253),\n",
       " (0.65, 242),\n",
       " (0.45, 217),\n",
       " (0.67, 212),\n",
       " (0.44, 205),\n",
       " (0.43, 203),\n",
       " (0.68, 186),\n",
       " (0.69, 179),\n",
       " (0.42, 173),\n",
       " (0.41, 132),\n",
       " (0.7, 124),\n",
       " (0.71, 122),\n",
       " (0.72, 109),\n",
       " (0.4, 108),\n",
       " (0.39, 106),\n",
       " (0.38, 89),\n",
       " (0.74, 73),\n",
       " (0.73, 68),\n",
       " (0.75, 59),\n",
       " (0.37, 58),\n",
       " (0.36, 58),\n",
       " (0.35, 52),\n",
       " (0.76, 44),\n",
       " (0.77, 41),\n",
       " (0.34, 39),\n",
       " (0.33, 36),\n",
       " (0.78, 32),\n",
       " (0.32, 29),\n",
       " (0.8, 25),\n",
       " (0.31, 22),\n",
       " (0.79, 19),\n",
       " (0.3, 16),\n",
       " (0.28, 16),\n",
       " (0.81, 12),\n",
       " (0.82, 11),\n",
       " (0.29, 8),\n",
       " (0.26, 8),\n",
       " (0.84, 7),\n",
       " (0.27, 7),\n",
       " (0.25, 7),\n",
       " (0.87, 4),\n",
       " (0.83, 4),\n",
       " (0.86, 3),\n",
       " (0.23, 3),\n",
       " (0.85, 3),\n",
       " (0.2, 2),\n",
       " (0.89, 2),\n",
       " (0.94, 1),\n",
       " (0.18, 1),\n",
       " (0.24, 1),\n",
       " (0.91, 1)]"
      ]
     },
     "execution_count": 23,
     "metadata": {},
     "output_type": "execute_result"
    }
   ],
   "source": [
    "Counter(m1).most_common()\n"
   ]
  },
  {
   "cell_type": "code",
   "execution_count": 14,
   "id": "aa235582-a2d9-45bb-a1d7-765a73d2124d",
   "metadata": {
    "tags": []
   },
   "outputs": [
    {
     "data": {
      "image/png": "[encoded data removed]",
      "text/plain": [
       "<Figure size 640x480 with 1 Axes>"
      ]
     },
     "metadata": {},
     "output_type": "display_data"
    }
   ],
   "source": [
    "fig, ax = plt.subplots()\n",
    "for a in [m1,\n",
    "          m1[:int(n_conj*n_medidas/4)],\n",
    "          m1[:int(n_conj*n_medidas/2)],\n",
    "          m1[:3*int(n_conj*n_medidas/4)],\n",
    "          ]:      \n",
    "    sns.histplot(a, alpha=0.4)\n",
    "    \n",
    "    ax.set_xlabel('tempo de queda (s)')\n",
    "    ax.set_ylabel('contagem')\n",
    "    ax.set_xlim(0.95*m1.min(),1.05*m1.max())\n",
    "   # ax.set_ylim(0,1.05*frequencias[0][1])\n",
    "    \n",
    "    ax.text(\n",
    "            0.5,\n",
    "            0.5,\n",
    "            \"MP-resuldados\",\n",
    "            transform=ax.transAxes,\n",
    "            fontsize=40,\n",
    "            color=\"gray\",\n",
    "            alpha=0.1,\n",
    "            ha=\"center\",\n",
    "            va=\"center\",\n",
    "            rotation=0,\n",
    "        )\n",
    "    "
   ]
  },
  {
   "cell_type": "code",
   "execution_count": null,
   "id": "b00224a3-cc56-4826-8823-a1d50087935d",
   "metadata": {},
   "outputs": [],
   "source": [
    "m1\n",
    "m1[:int(n_conj*n_medidas/4)\n",
    "m1[:int(n_conj*n_medidas/2)\n",
    "m1[:3*int(n_conj*n_medidas/4)"
   ]
  },
  {
   "cell_type": "code",
   "execution_count": 44,
   "id": "f8a38f04-9ce2-49c1-ae91-76ae379b21b3",
   "metadata": {
    "tags": []
   },
   "outputs": [
    {
     "data": {
      "text/plain": [
       "Text(0.5, 0.5, 'MP-resuldados')"
      ]
     },
     "execution_count": 44,
     "metadata": {},
     "output_type": "execute_result"
    },
    {
     "data": {
      "image/png": "[encoded data removed]",
      "text/plain": [
       "<Figure size 640x480 with 4 Axes>"
      ]
     },
     "metadata": {},
     "output_type": "display_data"
    }
   ],
   "source": [
    "fig, axs_arr = plt.subplots(2, 2, sharex=True, sharey=True)\n",
    "\n",
    "axs = [ax for axs in axs_arr for ax in axs]\n",
    "fracs = [.25, .50, .75, 1]\n",
    "colors = ['orange', 'r', 'g', 'b']\n",
    "\n",
    "for ax, frac, color in zip(axs, fracs, colors):\n",
    "    \n",
    "    a = m1[:int(frac*n_conj*n_medidas)]\n",
    "    \n",
    "    sns.histplot(a, alpha=0.4, ax=ax, label=f'{int(100*frac)}%', color=color)\n",
    "\n",
    "    ax.set_xlabel('tempo de queda (s)')\n",
    "    ax.set_ylabel('contagem')\n",
    "    ax.legend(loc='upper right')\n",
    "    \n",
    "fig.text(\n",
    "        0.5,\n",
    "        0.5,\n",
    "        \"MP-resuldados\",\n",
    "        fontsize=50,\n",
    "        color=\"gray\",\n",
    "        alpha=0.1,\n",
    "        ha=\"center\",\n",
    "        va=\"center\",\n",
    "        rotation=45,\n",
    ")"
   ]
  },
  {
   "cell_type": "markdown",
   "id": "95f096d6-f481-4914-987c-d0dcd6489fd5",
   "metadata": {},
   "source": [
    "### Comparação do desvio padrão com a resolução do cronômetro"
   ]
  },
  {
   "cell_type": "code",
   "execution_count": 28,
   "id": "f47969f7-db16-4be7-b360-9a3f510217ad",
   "metadata": {
    "tags": []
   },
   "outputs": [
    {
     "data": {
      "text/plain": [
       "['_PROPERTIES_EXCLUDED_FROM_SET',\n",
       " '__class__',\n",
       " '__delattr__',\n",
       " '__dict__',\n",
       " '__dir__',\n",
       " '__doc__',\n",
       " '__eq__',\n",
       " '__format__',\n",
       " '__ge__',\n",
       " '__getattribute__',\n",
       " '__getstate__',\n",
       " '__gt__',\n",
       " '__hash__',\n",
       " '__init__',\n",
       " '__init_subclass__',\n",
       " '__le__',\n",
       " '__lt__',\n",
       " '__module__',\n",
       " '__ne__',\n",
       " '__new__',\n",
       " '__reduce__',\n",
       " '__reduce_ex__',\n",
       " '__repr__',\n",
       " '__setattr__',\n",
       " '__setstate__',\n",
       " '__sizeof__',\n",
       " '__str__',\n",
       " '__subclasshook__',\n",
       " '__weakref__',\n",
       " '_add_axes_internal',\n",
       " '_agg_filter',\n",
       " '_align_label_groups',\n",
       " '_alpha',\n",
       " '_animated',\n",
       " '_axobservers',\n",
       " '_axstack',\n",
       " '_button_pick_id',\n",
       " '_callbacks',\n",
       " '_canvas_callbacks',\n",
       " '_check_layout_engines_compat',\n",
       " '_clipon',\n",
       " '_clippath',\n",
       " '_cm_set',\n",
       " '_default_contains',\n",
       " '_dpi',\n",
       " '_fig_callbacks',\n",
       " '_fully_clipped_to_axes',\n",
       " '_gci',\n",
       " '_get_dpi',\n",
       " '_get_draw_artists',\n",
       " '_get_renderer',\n",
       " '_gid',\n",
       " '_in_layout',\n",
       " '_internal_update',\n",
       " '_label',\n",
       " '_layout_engine',\n",
       " '_localaxes',\n",
       " '_mouse_key_ids',\n",
       " '_mouseover',\n",
       " '_norm_per_subplot_kw',\n",
       " '_normalize_grid_string',\n",
       " '_original_dpi',\n",
       " '_path_effects',\n",
       " '_picker',\n",
       " '_process_projection_requirements',\n",
       " '_rasterized',\n",
       " '_remove_method',\n",
       " '_repr_html_',\n",
       " '_scroll_pick_id',\n",
       " '_set_alpha_for_array',\n",
       " '_set_artist_props',\n",
       " '_set_dpi',\n",
       " '_set_gc_clip',\n",
       " '_sketch',\n",
       " '_snap',\n",
       " '_stale',\n",
       " '_sticky_edges',\n",
       " '_suplabels',\n",
       " '_suptitle',\n",
       " '_supxlabel',\n",
       " '_supylabel',\n",
       " '_transform',\n",
       " '_transformSet',\n",
       " '_update_props',\n",
       " '_update_set_signature_and_docstring',\n",
       " '_url',\n",
       " '_visible',\n",
       " 'add_artist',\n",
       " 'add_axes',\n",
       " 'add_axobserver',\n",
       " 'add_callback',\n",
       " 'add_gridspec',\n",
       " 'add_subfigure',\n",
       " 'add_subplot',\n",
       " 'align_labels',\n",
       " 'align_xlabels',\n",
       " 'align_ylabels',\n",
       " 'artists',\n",
       " 'autofmt_xdate',\n",
       " 'axes',\n",
       " 'bbox',\n",
       " 'bbox_inches',\n",
       " 'callbacks',\n",
       " 'canvas',\n",
       " 'clear',\n",
       " 'clf',\n",
       " 'clipbox',\n",
       " 'colorbar',\n",
       " 'contains',\n",
       " 'convert_xunits',\n",
       " 'convert_yunits',\n",
       " 'delaxes',\n",
       " 'dpi',\n",
       " 'dpi_scale_trans',\n",
       " 'draw',\n",
       " 'draw_artist',\n",
       " 'draw_without_rendering',\n",
       " 'execute_constrained_layout',\n",
       " 'figbbox',\n",
       " 'figimage',\n",
       " 'figure',\n",
       " 'findobj',\n",
       " 'format_cursor_data',\n",
       " 'frameon',\n",
       " 'gca',\n",
       " 'get_agg_filter',\n",
       " 'get_alpha',\n",
       " 'get_animated',\n",
       " 'get_axes',\n",
       " 'get_children',\n",
       " 'get_clip_box',\n",
       " 'get_clip_on',\n",
       " 'get_clip_path',\n",
       " 'get_constrained_layout',\n",
       " 'get_constrained_layout_pads',\n",
       " 'get_cursor_data',\n",
       " 'get_default_bbox_extra_artists',\n",
       " 'get_dpi',\n",
       " 'get_edgecolor',\n",
       " 'get_facecolor',\n",
       " 'get_figheight',\n",
       " 'get_figure',\n",
       " 'get_figwidth',\n",
       " 'get_frameon',\n",
       " 'get_gid',\n",
       " 'get_in_layout',\n",
       " 'get_label',\n",
       " 'get_layout_engine',\n",
       " 'get_linewidth',\n",
       " 'get_mouseover',\n",
       " 'get_path_effects',\n",
       " 'get_picker',\n",
       " 'get_rasterized',\n",
       " 'get_size_inches',\n",
       " 'get_sketch_params',\n",
       " 'get_snap',\n",
       " 'get_tight_layout',\n",
       " 'get_tightbbox',\n",
       " 'get_transform',\n",
       " 'get_transformed_clip_path_and_affine',\n",
       " 'get_url',\n",
       " 'get_visible',\n",
       " 'get_window_extent',\n",
       " 'get_zorder',\n",
       " 'ginput',\n",
       " 'have_units',\n",
       " 'images',\n",
       " 'is_transform_set',\n",
       " 'legend',\n",
       " 'legends',\n",
       " 'lines',\n",
       " 'mouseover',\n",
       " 'number',\n",
       " 'patch',\n",
       " 'patches',\n",
       " 'pchanged',\n",
       " 'pick',\n",
       " 'pickable',\n",
       " 'properties',\n",
       " 'remove',\n",
       " 'remove_callback',\n",
       " 'savefig',\n",
       " 'sca',\n",
       " 'set',\n",
       " 'set_agg_filter',\n",
       " 'set_alpha',\n",
       " 'set_animated',\n",
       " 'set_canvas',\n",
       " 'set_clip_box',\n",
       " 'set_clip_on',\n",
       " 'set_clip_path',\n",
       " 'set_constrained_layout',\n",
       " 'set_constrained_layout_pads',\n",
       " 'set_dpi',\n",
       " 'set_edgecolor',\n",
       " 'set_facecolor',\n",
       " 'set_figheight',\n",
       " 'set_figure',\n",
       " 'set_figwidth',\n",
       " 'set_frameon',\n",
       " 'set_gid',\n",
       " 'set_in_layout',\n",
       " 'set_label',\n",
       " 'set_layout_engine',\n",
       " 'set_linewidth',\n",
       " 'set_mouseover',\n",
       " 'set_path_effects',\n",
       " 'set_picker',\n",
       " 'set_rasterized',\n",
       " 'set_size_inches',\n",
       " 'set_sketch_params',\n",
       " 'set_snap',\n",
       " 'set_tight_layout',\n",
       " 'set_transform',\n",
       " 'set_url',\n",
       " 'set_visible',\n",
       " 'set_zorder',\n",
       " 'show',\n",
       " 'stale',\n",
       " 'stale_callback',\n",
       " 'sticky_edges',\n",
       " 'subfigs',\n",
       " 'subfigures',\n",
       " 'subplot_mosaic',\n",
       " 'subplotpars',\n",
       " 'subplots',\n",
       " 'subplots_adjust',\n",
       " 'suppressComposite',\n",
       " 'suptitle',\n",
       " 'supxlabel',\n",
       " 'supylabel',\n",
       " 'text',\n",
       " 'texts',\n",
       " 'tight_layout',\n",
       " 'transFigure',\n",
       " 'transSubfigure',\n",
       " 'update',\n",
       " 'update_from',\n",
       " 'waitforbuttonpress',\n",
       " 'zorder']"
      ]
     },
     "execution_count": 28,
     "metadata": {},
     "output_type": "execute_result"
    }
   ],
   "source": [
    "dir(fig)"
   ]
  },
  {
   "cell_type": "code",
   "execution_count": 17,
   "id": "255b7a7d-8bb5-4d41-ba23-bf5c1748079b",
   "metadata": {
    "tags": []
   },
   "outputs": [],
   "source": [
    "def plot_desvio(medidas, estatistica):\n",
    "    fig, ax = plt.subplots()\n",
    "\n",
    "    # resolução do cronômetro\n",
    "    ax.axhline(0.01,\n",
    "    color='blue',\n",
    "    linestyle='dashed',\n",
    "    label='resolução do cronômetro'\n",
    "    )\n",
    "\n",
    "    # desvio para diversos conjuntos com quantidade de medidas diferentes\n",
    "    ax.plot(\n",
    "        estatistica.index,\n",
    "        estatistica['incerteza'],\n",
    "        color='orange',\n",
    "        marker='.',\n",
    "        linestyle='none',\n",
    "        #label=''\n",
    "    )\n",
    "\n",
    "\n",
    "    ax.set_title('Incerteza do valor médio')\n",
    "    ax.set_xlabel('conjuntos de medidas')\n",
    "    ax.set_ylabel('tempo de queda (s)')\n",
    "    ax.legend(loc='upper center', ncols=1)\n",
    "    \n",
    "    ax.text(\n",
    "            0.5,\n",
    "            0.5,\n",
    "            \"MP-resuldados\",\n",
    "            transform=ax.transAxes,\n",
    "            fontsize=40,\n",
    "            color=\"gray\",\n",
    "            alpha=0.1,\n",
    "            ha=\"center\",\n",
    "            va=\"center\",\n",
    "            rotation=45,\n",
    "            )\n",
    "    \n",
    "    \n",
    "    return fig, ax"
   ]
  },
  {
   "cell_type": "code",
   "execution_count": 18,
   "id": "1b98aa7c-b951-4757-ac41-bb771aba25f6",
   "metadata": {
    "tags": []
   },
   "outputs": [
    {
     "data": {
      "text/plain": [
       "(<Figure size 640x480 with 1 Axes>,\n",
       " <Axes: title={'center': 'Incerteza do valor médio'}, xlabel='conjuntos de medidas', ylabel='tempo de queda (s)'>)"
      ]
     },
     "execution_count": 18,
     "metadata": {},
     "output_type": "execute_result"
    },
    {
     "data": {
      "image/png": "[encoded data removed]",
      "text/plain": [
       "<Figure size 640x480 with 1 Axes>"
      ]
     },
     "metadata": {},
     "output_type": "display_data"
    }
   ],
   "source": [
    "plot_desvio(m1, e1)"
   ]
  },
  {
   "cell_type": "code",
   "execution_count": null,
   "id": "8b2474a2-1c8b-4573-8203-f9bbbfe1a717",
   "metadata": {},
   "outputs": [],
   "source": []
  },
  {
   "cell_type": "code",
   "execution_count": null,
   "id": "2f692ca8-0e0d-4e01-ae95-32e6068ca24e",
   "metadata": {},
   "outputs": [],
   "source": []
  },
  {
   "cell_type": "code",
   "execution_count": null,
   "id": "3ed89966-a31c-431c-8458-657033fecc53",
   "metadata": {},
   "outputs": [],
   "source": []
  }
 ],
 "metadata": {
  "kernelspec": {
   "display_name": "Python 3 (ipykernel)",
   "language": "python",
   "name": "python3"
  },
  "language_info": {
   "codemirror_mode": {
    "name": "ipython",
    "version": 3
   },
   "file_extension": ".py",
   "mimetype": "text/x-python",
   "name": "python",
   "nbconvert_exporter": "python",
   "pygments_lexer": "ipython3",
   "version": "3.11.5"
  }
 },
 "nbformat": 4,
 "nbformat_minor": 5
}
