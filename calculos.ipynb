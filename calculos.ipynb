{
 "cells": [
  {
   "cell_type": "code",
   "execution_count": 1,
   "id": "838355a3-0f79-4ece-9dc1-499c205ebe23",
   "metadata": {},
   "outputs": [],
   "source": [
    "import datetime\n",
    "import altair as alt\n",
    "import pandas as pd\n",
    "import numpy as np\n",
    "import seaborn as sns\n",
    "import matplotlib as mpl\n",
    "import matplotlib.pyplot as plt\n",
    "from random import seed\n",
    "from random import gauss"
   ]
  },
  {
   "cell_type": "code",
   "execution_count": 2,
   "id": "eb9723bc-8d18-45aa-99d9-0ad1d6b7659d",
   "metadata": {
    "tags": []
   },
   "outputs": [],
   "source": [
    "# funções auxiliares\n",
    "\n",
    "from math import log10, floor\n",
    "\n",
    "def round_it(x, sig):\n",
    "    return round(x, sig - int(floor(log10(abs(x)))) - 1)\n"
   ]
  },
  {
   "cell_type": "markdown",
   "id": "8f1188d0-6acb-4923-99d7-ba54dbdca642",
   "metadata": {},
   "source": [
    "# Tempo de queda da esfera"
   ]
  },
  {
   "cell_type": "markdown",
   "id": "5dd78782-7b25-44f8-878d-8bd068249636",
   "metadata": {},
   "source": [
    "Expressão para o tempo de queda de uma altura de 1.5 m"
   ]
  },
  {
   "cell_type": "code",
   "execution_count": 3,
   "id": "704d2b17-a9c2-4c7a-b182-574e57a66d49",
   "metadata": {
    "tags": []
   },
   "outputs": [
    {
     "data": {
      "text/plain": [
       "0.5536252478513619"
      ]
     },
     "execution_count": 3,
     "metadata": {},
     "output_type": "execute_result"
    }
   ],
   "source": [
    "g = 9.787899\n",
    "h = 1.5\n",
    "t = (2*h/g) **(0.5)\n",
    "t"
   ]
  },
  {
   "cell_type": "markdown",
   "id": "c26bc119-7e13-4ba4-abfa-030a3b43243c",
   "metadata": {},
   "source": [
    "Incerteza estimada"
   ]
  },
  {
   "cell_type": "code",
   "execution_count": 4,
   "id": "944843ee-7d53-474b-b9d5-2d392b5e3868",
   "metadata": {
    "tags": []
   },
   "outputs": [
    {
     "data": {
      "text/plain": [
       "(0.004, 0.01, 0.5)"
      ]
     },
     "execution_count": 4,
     "metadata": {},
     "output_type": "execute_result"
    }
   ],
   "source": [
    "erro_h = 0.02\n",
    "erro_t_prop = round_it(0.5*t*erro_h/h,1)\n",
    "erro_t_crono = 0.01\n",
    "erro_t_reacao = 2*0.25\n",
    "erro_t_prop, erro_t_crono, erro_t_reacao"
   ]
  },
  {
   "cell_type": "markdown",
   "id": "61d98cbd-0f1f-4b05-bd43-e6b7907153fe",
   "metadata": {},
   "source": [
    "## Dados reais para o cálculo do desvio padrão "
   ]
  },
  {
   "cell_type": "code",
   "execution_count": 5,
   "id": "1345fe6c-e1ff-4d19-b80f-88ea7a1f96db",
   "metadata": {
    "tags": []
   },
   "outputs": [
    {
     "data": {
      "text/html": [
       "<div>\n",
       "<style scoped>\n",
       "    .dataframe tbody tr th:only-of-type {\n",
       "        vertical-align: middle;\n",
       "    }\n",
       "\n",
       "    .dataframe tbody tr th {\n",
       "        vertical-align: top;\n",
       "    }\n",
       "\n",
       "    .dataframe thead th {\n",
       "        text-align: right;\n",
       "    }\n",
       "</style>\n",
       "<table border=\"1\" class=\"dataframe\">\n",
       "  <thead>\n",
       "    <tr style=\"text-align: right;\">\n",
       "      <th></th>\n",
       "      <th>tempos</th>\n",
       "    </tr>\n",
       "  </thead>\n",
       "  <tbody>\n",
       "    <tr>\n",
       "      <th>0</th>\n",
       "      <td>0.31</td>\n",
       "    </tr>\n",
       "    <tr>\n",
       "      <th>1</th>\n",
       "      <td>0.53</td>\n",
       "    </tr>\n",
       "    <tr>\n",
       "      <th>2</th>\n",
       "      <td>0.44</td>\n",
       "    </tr>\n",
       "    <tr>\n",
       "      <th>3</th>\n",
       "      <td>0.65</td>\n",
       "    </tr>\n",
       "    <tr>\n",
       "      <th>4</th>\n",
       "      <td>0.40</td>\n",
       "    </tr>\n",
       "    <tr>\n",
       "      <th>...</th>\n",
       "      <td>...</td>\n",
       "    </tr>\n",
       "    <tr>\n",
       "      <th>595</th>\n",
       "      <td>0.63</td>\n",
       "    </tr>\n",
       "    <tr>\n",
       "      <th>596</th>\n",
       "      <td>0.64</td>\n",
       "    </tr>\n",
       "    <tr>\n",
       "      <th>597</th>\n",
       "      <td>0.64</td>\n",
       "    </tr>\n",
       "    <tr>\n",
       "      <th>598</th>\n",
       "      <td>0.62</td>\n",
       "    </tr>\n",
       "    <tr>\n",
       "      <th>599</th>\n",
       "      <td>0.62</td>\n",
       "    </tr>\n",
       "  </tbody>\n",
       "</table>\n",
       "<p>600 rows × 1 columns</p>\n",
       "</div>"
      ],
      "text/plain": [
       "     tempos\n",
       "0      0.31\n",
       "1      0.53\n",
       "2      0.44\n",
       "3      0.65\n",
       "4      0.40\n",
       "..      ...\n",
       "595    0.63\n",
       "596    0.64\n",
       "597    0.64\n",
       "598    0.62\n",
       "599    0.62\n",
       "\n",
       "[600 rows x 1 columns]"
      ]
     },
     "execution_count": 5,
     "metadata": {},
     "output_type": "execute_result"
    }
   ],
   "source": [
    "tempos = pd.read_csv('tempos.csv')\n",
    "tempos"
   ]
  },
  {
   "cell_type": "code",
   "execution_count": 6,
   "id": "78535dea-57d9-45c1-b932-2482794ff479",
   "metadata": {
    "tags": []
   },
   "outputs": [
    {
     "data": {
      "text/plain": [
       "<Axes: ylabel='Count'>"
      ]
     },
     "execution_count": 6,
     "metadata": {},
     "output_type": "execute_result"
    },
    {
     "data": {
      "image/png": "[encoded data removed]",
      "text/plain": [
       "<Figure size 640x480 with 1 Axes>"
      ]
     },
     "metadata": {},
     "output_type": "display_data"
    }
   ],
   "source": [
    "sns.histplot(tempos)"
   ]
  },
  {
   "cell_type": "code",
   "execution_count": 7,
   "id": "22938095-e3c8-46c5-96cd-c97d7c7c0f83",
   "metadata": {
    "tags": []
   },
   "outputs": [
    {
     "data": {
      "text/html": [
       "<div>\n",
       "<style scoped>\n",
       "    .dataframe tbody tr th:only-of-type {\n",
       "        vertical-align: middle;\n",
       "    }\n",
       "\n",
       "    .dataframe tbody tr th {\n",
       "        vertical-align: top;\n",
       "    }\n",
       "\n",
       "    .dataframe thead th {\n",
       "        text-align: right;\n",
       "    }\n",
       "</style>\n",
       "<table border=\"1\" class=\"dataframe\">\n",
       "  <thead>\n",
       "    <tr style=\"text-align: right;\">\n",
       "      <th></th>\n",
       "      <th>tempos</th>\n",
       "    </tr>\n",
       "  </thead>\n",
       "  <tbody>\n",
       "    <tr>\n",
       "      <th>count</th>\n",
       "      <td>600.000000</td>\n",
       "    </tr>\n",
       "    <tr>\n",
       "      <th>mean</th>\n",
       "      <td>0.503267</td>\n",
       "    </tr>\n",
       "    <tr>\n",
       "      <th>std</th>\n",
       "      <td>0.104925</td>\n",
       "    </tr>\n",
       "    <tr>\n",
       "      <th>min</th>\n",
       "      <td>0.220000</td>\n",
       "    </tr>\n",
       "    <tr>\n",
       "      <th>25%</th>\n",
       "      <td>0.430000</td>\n",
       "    </tr>\n",
       "    <tr>\n",
       "      <th>50%</th>\n",
       "      <td>0.520000</td>\n",
       "    </tr>\n",
       "    <tr>\n",
       "      <th>75%</th>\n",
       "      <td>0.590000</td>\n",
       "    </tr>\n",
       "    <tr>\n",
       "      <th>max</th>\n",
       "      <td>0.750000</td>\n",
       "    </tr>\n",
       "  </tbody>\n",
       "</table>\n",
       "</div>"
      ],
      "text/plain": [
       "           tempos\n",
       "count  600.000000\n",
       "mean     0.503267\n",
       "std      0.104925\n",
       "min      0.220000\n",
       "25%      0.430000\n",
       "50%      0.520000\n",
       "75%      0.590000\n",
       "max      0.750000"
      ]
     },
     "execution_count": 7,
     "metadata": {},
     "output_type": "execute_result"
    }
   ],
   "source": [
    "tempos.describe()"
   ]
  },
  {
   "cell_type": "code",
   "execution_count": 8,
   "id": "ce82538d-37e8-4f79-982b-8c90ab2c6726",
   "metadata": {
    "tags": []
   },
   "outputs": [
    {
     "data": {
      "text/plain": [
       "0.10492542333959805"
      ]
     },
     "execution_count": 8,
     "metadata": {},
     "output_type": "execute_result"
    }
   ],
   "source": [
    "desvio_padrao = tempos.std().item()\n",
    "desvio_padrao"
   ]
  },
  {
   "cell_type": "markdown",
   "id": "a841233c-ee5d-418e-ac3b-1a4859b0edbb",
   "metadata": {},
   "source": [
    "## Simulação"
   ]
  },
  {
   "cell_type": "code",
   "execution_count": 75,
   "id": "483b23f3-cf04-4f97-bc73-12005013f2ca",
   "metadata": {
    "tags": []
   },
   "outputs": [],
   "source": [
    "def medidas(N_conj, N_medidas, h, desvio_padrao):\n",
    "    t = (2*h/9.787899) **(0.5)\n",
    "    medidas = pd.Series()\n",
    "    estatistica = pd.DataFrame(columns = ['media', 'desvio', 'incerteza'])\n",
    "\n",
    "    for i in range(N_conj):\n",
    "        \n",
    "        med = pd.Series([gauss(t,desvio_padrao) for i in range(N_medidas)])\n",
    "        medidas = pd.concat([medidas, med])\n",
    "        \n",
    "        est = pd.DataFrame({'media':[medidas.mean()],'desvio':[medidas.std()], 'incerteza':[medidas.std()/((i+1)*N_medidas)**0.5]})\n",
    "        estatistica = pd.concat([estatistica, est])\n",
    "    \n",
    "    return medidas, estatistica.reset_index()"
   ]
  },
  {
   "cell_type": "markdown",
   "id": "77abb890-ccde-4e7f-95e2-d841b97712c0",
   "metadata": {},
   "source": [
    "### Primeiro conjunto de teste"
   ]
  },
  {
   "cell_type": "code",
   "execution_count": 119,
   "id": "5cb31f07-0ac2-46be-baa7-05fd1ca74d60",
   "metadata": {
    "tags": []
   },
   "outputs": [],
   "source": [
    "m1, e1 = medidas(600,10,1.5,0.1)"
   ]
  },
  {
   "cell_type": "code",
   "execution_count": 120,
   "id": "ef0efbea-c383-4c8b-92ce-76e4cc188b3c",
   "metadata": {
    "tags": []
   },
   "outputs": [
    {
     "data": {
      "text/html": [
       "<div>\n",
       "<style scoped>\n",
       "    .dataframe tbody tr th:only-of-type {\n",
       "        vertical-align: middle;\n",
       "    }\n",
       "\n",
       "    .dataframe tbody tr th {\n",
       "        vertical-align: top;\n",
       "    }\n",
       "\n",
       "    .dataframe thead th {\n",
       "        text-align: right;\n",
       "    }\n",
       "</style>\n",
       "<table border=\"1\" class=\"dataframe\">\n",
       "  <thead>\n",
       "    <tr style=\"text-align: right;\">\n",
       "      <th></th>\n",
       "      <th>index</th>\n",
       "      <th>media</th>\n",
       "      <th>desvio</th>\n",
       "      <th>incerteza</th>\n",
       "    </tr>\n",
       "  </thead>\n",
       "  <tbody>\n",
       "    <tr>\n",
       "      <th>0</th>\n",
       "      <td>0</td>\n",
       "      <td>0.593190</td>\n",
       "      <td>0.081363</td>\n",
       "      <td>0.025729</td>\n",
       "    </tr>\n",
       "    <tr>\n",
       "      <th>1</th>\n",
       "      <td>0</td>\n",
       "      <td>0.568100</td>\n",
       "      <td>0.091949</td>\n",
       "      <td>0.020560</td>\n",
       "    </tr>\n",
       "    <tr>\n",
       "      <th>2</th>\n",
       "      <td>0</td>\n",
       "      <td>0.577540</td>\n",
       "      <td>0.087298</td>\n",
       "      <td>0.015938</td>\n",
       "    </tr>\n",
       "    <tr>\n",
       "      <th>3</th>\n",
       "      <td>0</td>\n",
       "      <td>0.579339</td>\n",
       "      <td>0.090111</td>\n",
       "      <td>0.014248</td>\n",
       "    </tr>\n",
       "    <tr>\n",
       "      <th>4</th>\n",
       "      <td>0</td>\n",
       "      <td>0.573770</td>\n",
       "      <td>0.085859</td>\n",
       "      <td>0.012142</td>\n",
       "    </tr>\n",
       "    <tr>\n",
       "      <th>...</th>\n",
       "      <td>...</td>\n",
       "      <td>...</td>\n",
       "      <td>...</td>\n",
       "      <td>...</td>\n",
       "    </tr>\n",
       "    <tr>\n",
       "      <th>595</th>\n",
       "      <td>0</td>\n",
       "      <td>0.551943</td>\n",
       "      <td>0.099786</td>\n",
       "      <td>0.001293</td>\n",
       "    </tr>\n",
       "    <tr>\n",
       "      <th>596</th>\n",
       "      <td>0</td>\n",
       "      <td>0.552013</td>\n",
       "      <td>0.099771</td>\n",
       "      <td>0.001291</td>\n",
       "    </tr>\n",
       "    <tr>\n",
       "      <th>597</th>\n",
       "      <td>0</td>\n",
       "      <td>0.551960</td>\n",
       "      <td>0.099784</td>\n",
       "      <td>0.001290</td>\n",
       "    </tr>\n",
       "    <tr>\n",
       "      <th>598</th>\n",
       "      <td>0</td>\n",
       "      <td>0.551987</td>\n",
       "      <td>0.099790</td>\n",
       "      <td>0.001289</td>\n",
       "    </tr>\n",
       "    <tr>\n",
       "      <th>599</th>\n",
       "      <td>0</td>\n",
       "      <td>0.551928</td>\n",
       "      <td>0.099904</td>\n",
       "      <td>0.001290</td>\n",
       "    </tr>\n",
       "  </tbody>\n",
       "</table>\n",
       "<p>600 rows × 4 columns</p>\n",
       "</div>"
      ],
      "text/plain": [
       "     index     media    desvio  incerteza\n",
       "0        0  0.593190  0.081363   0.025729\n",
       "1        0  0.568100  0.091949   0.020560\n",
       "2        0  0.577540  0.087298   0.015938\n",
       "3        0  0.579339  0.090111   0.014248\n",
       "4        0  0.573770  0.085859   0.012142\n",
       "..     ...       ...       ...        ...\n",
       "595      0  0.551943  0.099786   0.001293\n",
       "596      0  0.552013  0.099771   0.001291\n",
       "597      0  0.551960  0.099784   0.001290\n",
       "598      0  0.551987  0.099790   0.001289\n",
       "599      0  0.551928  0.099904   0.001290\n",
       "\n",
       "[600 rows x 4 columns]"
      ]
     },
     "execution_count": 120,
     "metadata": {},
     "output_type": "execute_result"
    }
   ],
   "source": [
    "e1"
   ]
  },
  {
   "cell_type": "code",
   "execution_count": 121,
   "id": "4af54a32-0d97-4741-b600-e7fb6c98910e",
   "metadata": {
    "tags": []
   },
   "outputs": [],
   "source": [
    "def plot_medias(estatistica, h):\n",
    "    fig, ax = plt.subplots()\n",
    "\n",
    "    t = (2*h/9.787899) **(0.5)\n",
    "\n",
    "    # valor de referência\n",
    "    ax.axhline(t,\n",
    "    color='blue',\n",
    "    linestyle='dashed',\n",
    "    label='valor de referência'\n",
    "    )\n",
    "  \n",
    "\n",
    "    # média e incerteza\n",
    "    ax.errorbar(\n",
    "        estatistica.index,\n",
    "        estatistica['media'],\n",
    "        yerr = estatistica['incerteza'],\n",
    "        color='orange',\n",
    "        marker='o',\n",
    "        linestyle='none',\n",
    "        #label=''\n",
    "    )\n",
    "    \n",
    "    ax.set_title('Médias')\n",
    "    ax.set_xlabel('conjuntos de medidas')\n",
    "    ax.set_ylabel('tempo de queda (s)')\n",
    "    ax.legend(loc='upper center', ncols=1)\n",
    "    \n",
    "    return fig, ax"
   ]
  },
  {
   "cell_type": "code",
   "execution_count": 122,
   "id": "b329a700-46b6-4432-9bb3-acff5ca6e57a",
   "metadata": {
    "tags": []
   },
   "outputs": [
    {
     "data": {
      "text/plain": [
       "(<Figure size 640x480 with 1 Axes>,\n",
       " <Axes: title={'center': 'Médias'}, xlabel='conjuntos de medidas', ylabel='tempo de queda (s)'>)"
      ]
     },
     "execution_count": 122,
     "metadata": {},
     "output_type": "execute_result"
    },
    {
     "data": {
      "image/png": "[encoded data removed]",
      "text/plain": [
       "<Figure size 640x480 with 1 Axes>"
      ]
     },
     "metadata": {},
     "output_type": "display_data"
    }
   ],
   "source": [
    "plot_medias(e1, 1.5)"
   ]
  },
  {
   "cell_type": "markdown",
   "id": "95f096d6-f481-4914-987c-d0dcd6489fd5",
   "metadata": {},
   "source": [
    "### Comparação do desvio padrão com a resolução do cronômetro"
   ]
  },
  {
   "cell_type": "code",
   "execution_count": 123,
   "id": "255b7a7d-8bb5-4d41-ba23-bf5c1748079b",
   "metadata": {
    "tags": []
   },
   "outputs": [],
   "source": [
    "def plot_desvio(medidas, estatistica):\n",
    "    fig, ax = plt.subplots()\n",
    "\n",
    "    # resolução do cronômetro\n",
    "    ax.axhline(0.01,\n",
    "    color='blue',\n",
    "    linestyle='dashed',\n",
    "    label='resolução do cronômetro'\n",
    "    )\n",
    "\n",
    "    # desvio para diversos conjuntos com quantidade de medidas diferentes\n",
    "    ax.plot(\n",
    "        estatistica.index,\n",
    "        estatistica['incerteza'],\n",
    "        color='orange',\n",
    "        marker='o',\n",
    "        linestyle='none',\n",
    "        #label=''\n",
    "    )\n",
    "\n",
    "\n",
    "    ax.set_title('Incerteza da média')\n",
    "    ax.set_xlabel('conjuntos de medidas')\n",
    "    ax.set_ylabel('tempo de queda (s)')\n",
    "    ax.legend(loc='upper center', ncols=1)\n",
    "    \n",
    "    return fig, ax"
   ]
  },
  {
   "cell_type": "code",
   "execution_count": 124,
   "id": "1b98aa7c-b951-4757-ac41-bb771aba25f6",
   "metadata": {
    "tags": []
   },
   "outputs": [
    {
     "data": {
      "text/plain": [
       "(<Figure size 640x480 with 1 Axes>,\n",
       " <Axes: title={'center': 'Incerteza da média'}, xlabel='conjuntos de medidas', ylabel='tempo de queda (s)'>)"
      ]
     },
     "execution_count": 124,
     "metadata": {},
     "output_type": "execute_result"
    },
    {
     "data": {
      "image/png": "[encoded data removed]",
      "text/plain": [
       "<Figure size 640x480 with 1 Axes>"
      ]
     },
     "metadata": {},
     "output_type": "display_data"
    }
   ],
   "source": [
    "plot_desvio(m1, e1)"
   ]
  },
  {
   "cell_type": "code",
   "execution_count": null,
   "id": "8b2474a2-1c8b-4573-8203-f9bbbfe1a717",
   "metadata": {},
   "outputs": [],
   "source": []
  },
  {
   "cell_type": "code",
   "execution_count": null,
   "id": "2f692ca8-0e0d-4e01-ae95-32e6068ca24e",
   "metadata": {},
   "outputs": [],
   "source": []
  }
 ],
 "metadata": {
  "kernelspec": {
   "display_name": "Python 3 (ipykernel)",
   "language": "python",
   "name": "python3"
  },
  "language_info": {
   "codemirror_mode": {
    "name": "ipython",
    "version": 3
   },
   "file_extension": ".py",
   "mimetype": "text/x-python",
   "name": "python",
   "nbconvert_exporter": "python",
   "pygments_lexer": "ipython3",
   "version": "3.11.5"
  }
 },
 "nbformat": 4,
 "nbformat_minor": 5
}
