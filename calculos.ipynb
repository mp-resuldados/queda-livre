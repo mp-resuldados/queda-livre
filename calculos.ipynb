{
 "cells": [
  {
   "cell_type": "code",
   "execution_count": 1,
   "id": "838355a3-0f79-4ece-9dc1-499c205ebe23",
   "metadata": {},
   "outputs": [],
   "source": [
    "import datetime\n",
    "import altair as alt\n",
    "import pandas as pd\n",
    "import numpy as np\n",
    "import seaborn as sns\n",
    "import matplotlib as mpl\n",
    "import matplotlib.pyplot as plt\n",
    "from random import seed\n",
    "from random import gauss"
   ]
  },
  {
   "cell_type": "code",
   "execution_count": 2,
   "id": "eb9723bc-8d18-45aa-99d9-0ad1d6b7659d",
   "metadata": {
    "tags": []
   },
   "outputs": [],
   "source": [
    "# funções auxiliares\n",
    "\n",
    "from math import log10, floor\n",
    "\n",
    "def round_it(x, sig):\n",
    "    return round(x, sig - int(floor(log10(abs(x)))) - 1)\n"
   ]
  },
  {
   "cell_type": "markdown",
   "id": "8f1188d0-6acb-4923-99d7-ba54dbdca642",
   "metadata": {},
   "source": [
    "# Tempo de queda da esfera"
   ]
  },
  {
   "cell_type": "markdown",
   "id": "5dd78782-7b25-44f8-878d-8bd068249636",
   "metadata": {},
   "source": [
    "Expressão para o tempo de queda de uma altura de 1.5 m"
   ]
  },
  {
   "cell_type": "code",
   "execution_count": 3,
   "id": "704d2b17-a9c2-4c7a-b182-574e57a66d49",
   "metadata": {
    "tags": []
   },
   "outputs": [
    {
     "data": {
      "text/plain": [
       "0.5536252478513619"
      ]
     },
     "execution_count": 3,
     "metadata": {},
     "output_type": "execute_result"
    }
   ],
   "source": [
    "g = 9.787899\n",
    "h = 1.5\n",
    "t = (2*h/g) **(0.5)\n",
    "t"
   ]
  },
  {
   "cell_type": "markdown",
   "id": "c26bc119-7e13-4ba4-abfa-030a3b43243c",
   "metadata": {},
   "source": [
    "Incerteza estimada"
   ]
  },
  {
   "cell_type": "code",
   "execution_count": 4,
   "id": "944843ee-7d53-474b-b9d5-2d392b5e3868",
   "metadata": {
    "tags": []
   },
   "outputs": [
    {
     "data": {
      "text/plain": [
       "(0.004, 0.01, 0.5)"
      ]
     },
     "execution_count": 4,
     "metadata": {},
     "output_type": "execute_result"
    }
   ],
   "source": [
    "erro_h = 0.02\n",
    "erro_t_prop = round_it(0.5*t*erro_h/h,1)\n",
    "erro_t_crono = 0.01\n",
    "erro_t_reacao = 2*0.25\n",
    "erro_t_prop, erro_t_crono, erro_t_reacao"
   ]
  },
  {
   "cell_type": "markdown",
   "id": "61d98cbd-0f1f-4b05-bd43-e6b7907153fe",
   "metadata": {},
   "source": [
    "## Dados reais para o cálculo do desvio padrão "
   ]
  },
  {
   "cell_type": "code",
   "execution_count": 5,
   "id": "1345fe6c-e1ff-4d19-b80f-88ea7a1f96db",
   "metadata": {
    "tags": []
   },
   "outputs": [
    {
     "data": {
      "text/html": [
       "<div>\n",
       "<style scoped>\n",
       "    .dataframe tbody tr th:only-of-type {\n",
       "        vertical-align: middle;\n",
       "    }\n",
       "\n",
       "    .dataframe tbody tr th {\n",
       "        vertical-align: top;\n",
       "    }\n",
       "\n",
       "    .dataframe thead th {\n",
       "        text-align: right;\n",
       "    }\n",
       "</style>\n",
       "<table border=\"1\" class=\"dataframe\">\n",
       "  <thead>\n",
       "    <tr style=\"text-align: right;\">\n",
       "      <th></th>\n",
       "      <th>tempos</th>\n",
       "    </tr>\n",
       "  </thead>\n",
       "  <tbody>\n",
       "    <tr>\n",
       "      <th>0</th>\n",
       "      <td>0.31</td>\n",
       "    </tr>\n",
       "    <tr>\n",
       "      <th>1</th>\n",
       "      <td>0.53</td>\n",
       "    </tr>\n",
       "    <tr>\n",
       "      <th>2</th>\n",
       "      <td>0.44</td>\n",
       "    </tr>\n",
       "    <tr>\n",
       "      <th>3</th>\n",
       "      <td>0.65</td>\n",
       "    </tr>\n",
       "    <tr>\n",
       "      <th>4</th>\n",
       "      <td>0.40</td>\n",
       "    </tr>\n",
       "    <tr>\n",
       "      <th>...</th>\n",
       "      <td>...</td>\n",
       "    </tr>\n",
       "    <tr>\n",
       "      <th>595</th>\n",
       "      <td>0.63</td>\n",
       "    </tr>\n",
       "    <tr>\n",
       "      <th>596</th>\n",
       "      <td>0.64</td>\n",
       "    </tr>\n",
       "    <tr>\n",
       "      <th>597</th>\n",
       "      <td>0.64</td>\n",
       "    </tr>\n",
       "    <tr>\n",
       "      <th>598</th>\n",
       "      <td>0.62</td>\n",
       "    </tr>\n",
       "    <tr>\n",
       "      <th>599</th>\n",
       "      <td>0.62</td>\n",
       "    </tr>\n",
       "  </tbody>\n",
       "</table>\n",
       "<p>600 rows × 1 columns</p>\n",
       "</div>"
      ],
      "text/plain": [
       "     tempos\n",
       "0      0.31\n",
       "1      0.53\n",
       "2      0.44\n",
       "3      0.65\n",
       "4      0.40\n",
       "..      ...\n",
       "595    0.63\n",
       "596    0.64\n",
       "597    0.64\n",
       "598    0.62\n",
       "599    0.62\n",
       "\n",
       "[600 rows x 1 columns]"
      ]
     },
     "execution_count": 5,
     "metadata": {},
     "output_type": "execute_result"
    }
   ],
   "source": [
    "tempos = pd.read_csv('tempos.csv')\n",
    "tempos"
   ]
  },
  {
   "cell_type": "code",
   "execution_count": 6,
   "id": "78535dea-57d9-45c1-b932-2482794ff479",
   "metadata": {
    "tags": []
   },
   "outputs": [
    {
     "data": {
      "text/plain": [
       "<Axes: ylabel='Count'>"
      ]
     },
     "execution_count": 6,
     "metadata": {},
     "output_type": "execute_result"
    },
    {
     "data": {
      "image/png": "[encoded data removed]",
      "text/plain": [
       "<Figure size 640x480 with 1 Axes>"
      ]
     },
     "metadata": {},
     "output_type": "display_data"
    }
   ],
   "source": [
    "sns.histplot(tempos)"
   ]
  },
  {
   "cell_type": "code",
   "execution_count": 7,
   "id": "22938095-e3c8-46c5-96cd-c97d7c7c0f83",
   "metadata": {
    "tags": []
   },
   "outputs": [
    {
     "data": {
      "text/html": [
       "<div>\n",
       "<style scoped>\n",
       "    .dataframe tbody tr th:only-of-type {\n",
       "        vertical-align: middle;\n",
       "    }\n",
       "\n",
       "    .dataframe tbody tr th {\n",
       "        vertical-align: top;\n",
       "    }\n",
       "\n",
       "    .dataframe thead th {\n",
       "        text-align: right;\n",
       "    }\n",
       "</style>\n",
       "<table border=\"1\" class=\"dataframe\">\n",
       "  <thead>\n",
       "    <tr style=\"text-align: right;\">\n",
       "      <th></th>\n",
       "      <th>tempos</th>\n",
       "    </tr>\n",
       "  </thead>\n",
       "  <tbody>\n",
       "    <tr>\n",
       "      <th>count</th>\n",
       "      <td>600.000000</td>\n",
       "    </tr>\n",
       "    <tr>\n",
       "      <th>mean</th>\n",
       "      <td>0.503267</td>\n",
       "    </tr>\n",
       "    <tr>\n",
       "      <th>std</th>\n",
       "      <td>0.104925</td>\n",
       "    </tr>\n",
       "    <tr>\n",
       "      <th>min</th>\n",
       "      <td>0.220000</td>\n",
       "    </tr>\n",
       "    <tr>\n",
       "      <th>25%</th>\n",
       "      <td>0.430000</td>\n",
       "    </tr>\n",
       "    <tr>\n",
       "      <th>50%</th>\n",
       "      <td>0.520000</td>\n",
       "    </tr>\n",
       "    <tr>\n",
       "      <th>75%</th>\n",
       "      <td>0.590000</td>\n",
       "    </tr>\n",
       "    <tr>\n",
       "      <th>max</th>\n",
       "      <td>0.750000</td>\n",
       "    </tr>\n",
       "  </tbody>\n",
       "</table>\n",
       "</div>"
      ],
      "text/plain": [
       "           tempos\n",
       "count  600.000000\n",
       "mean     0.503267\n",
       "std      0.104925\n",
       "min      0.220000\n",
       "25%      0.430000\n",
       "50%      0.520000\n",
       "75%      0.590000\n",
       "max      0.750000"
      ]
     },
     "execution_count": 7,
     "metadata": {},
     "output_type": "execute_result"
    }
   ],
   "source": [
    "tempos.describe()"
   ]
  },
  {
   "cell_type": "code",
   "execution_count": 8,
   "id": "ce82538d-37e8-4f79-982b-8c90ab2c6726",
   "metadata": {
    "tags": []
   },
   "outputs": [
    {
     "data": {
      "text/plain": [
       "0.10492542333959805"
      ]
     },
     "execution_count": 8,
     "metadata": {},
     "output_type": "execute_result"
    }
   ],
   "source": [
    "desvio_padrao = tempos.std().item()\n",
    "desvio_padrao"
   ]
  },
  {
   "cell_type": "markdown",
   "id": "a841233c-ee5d-418e-ac3b-1a4859b0edbb",
   "metadata": {},
   "source": [
    "## Simulação"
   ]
  },
  {
   "cell_type": "code",
   "execution_count": 9,
   "id": "7872f436-f36f-470f-ac1d-24962f007928",
   "metadata": {
    "tags": []
   },
   "outputs": [
    {
     "data": {
      "text/html": [
       "<div>\n",
       "<style scoped>\n",
       "    .dataframe tbody tr th:only-of-type {\n",
       "        vertical-align: middle;\n",
       "    }\n",
       "\n",
       "    .dataframe tbody tr th {\n",
       "        vertical-align: top;\n",
       "    }\n",
       "\n",
       "    .dataframe thead th {\n",
       "        text-align: right;\n",
       "    }\n",
       "</style>\n",
       "<table border=\"1\" class=\"dataframe\">\n",
       "  <thead>\n",
       "    <tr style=\"text-align: right;\">\n",
       "      <th></th>\n",
       "      <th>0</th>\n",
       "      <th>1</th>\n",
       "      <th>2</th>\n",
       "      <th>3</th>\n",
       "      <th>4</th>\n",
       "      <th>5</th>\n",
       "    </tr>\n",
       "  </thead>\n",
       "  <tbody>\n",
       "    <tr>\n",
       "      <th>0</th>\n",
       "      <td>0.552225</td>\n",
       "      <td>0.548949</td>\n",
       "      <td>0.578115</td>\n",
       "      <td>0.458469</td>\n",
       "      <td>0.554432</td>\n",
       "      <td>0.672445</td>\n",
       "    </tr>\n",
       "    <tr>\n",
       "      <th>1</th>\n",
       "      <td>0.703897</td>\n",
       "      <td>0.412994</td>\n",
       "      <td>0.503206</td>\n",
       "      <td>0.397986</td>\n",
       "      <td>0.483226</td>\n",
       "      <td>0.393094</td>\n",
       "    </tr>\n",
       "    <tr>\n",
       "      <th>2</th>\n",
       "      <td>0.816597</td>\n",
       "      <td>0.437921</td>\n",
       "      <td>0.454526</td>\n",
       "      <td>0.683360</td>\n",
       "      <td>0.411969</td>\n",
       "      <td>0.622559</td>\n",
       "    </tr>\n",
       "    <tr>\n",
       "      <th>3</th>\n",
       "      <td>0.594025</td>\n",
       "      <td>0.668695</td>\n",
       "      <td>0.594660</td>\n",
       "      <td>0.467458</td>\n",
       "      <td>0.627145</td>\n",
       "      <td>0.726655</td>\n",
       "    </tr>\n",
       "    <tr>\n",
       "      <th>4</th>\n",
       "      <td>0.579336</td>\n",
       "      <td>0.595057</td>\n",
       "      <td>0.610327</td>\n",
       "      <td>0.578221</td>\n",
       "      <td>0.736646</td>\n",
       "      <td>0.747062</td>\n",
       "    </tr>\n",
       "    <tr>\n",
       "      <th>5</th>\n",
       "      <td>0.693740</td>\n",
       "      <td>0.577388</td>\n",
       "      <td>0.472133</td>\n",
       "      <td>0.565921</td>\n",
       "      <td>0.538716</td>\n",
       "      <td>0.552784</td>\n",
       "    </tr>\n",
       "    <tr>\n",
       "      <th>6</th>\n",
       "      <td>0.670685</td>\n",
       "      <td>0.345039</td>\n",
       "      <td>0.397908</td>\n",
       "      <td>0.580355</td>\n",
       "      <td>0.535048</td>\n",
       "      <td>0.669316</td>\n",
       "    </tr>\n",
       "    <tr>\n",
       "      <th>7</th>\n",
       "      <td>0.707940</td>\n",
       "      <td>0.443418</td>\n",
       "      <td>0.570540</td>\n",
       "      <td>0.575411</td>\n",
       "      <td>0.623449</td>\n",
       "      <td>0.789040</td>\n",
       "    </tr>\n",
       "    <tr>\n",
       "      <th>8</th>\n",
       "      <td>0.521321</td>\n",
       "      <td>0.384308</td>\n",
       "      <td>0.443191</td>\n",
       "      <td>0.761497</td>\n",
       "      <td>0.634183</td>\n",
       "      <td>0.650737</td>\n",
       "    </tr>\n",
       "    <tr>\n",
       "      <th>9</th>\n",
       "      <td>0.636502</td>\n",
       "      <td>0.529961</td>\n",
       "      <td>0.460497</td>\n",
       "      <td>0.483139</td>\n",
       "      <td>0.444546</td>\n",
       "      <td>0.536523</td>\n",
       "    </tr>\n",
       "  </tbody>\n",
       "</table>\n",
       "</div>"
      ],
      "text/plain": [
       "          0         1         2         3         4         5\n",
       "0  0.552225  0.548949  0.578115  0.458469  0.554432  0.672445\n",
       "1  0.703897  0.412994  0.503206  0.397986  0.483226  0.393094\n",
       "2  0.816597  0.437921  0.454526  0.683360  0.411969  0.622559\n",
       "3  0.594025  0.668695  0.594660  0.467458  0.627145  0.726655\n",
       "4  0.579336  0.595057  0.610327  0.578221  0.736646  0.747062\n",
       "5  0.693740  0.577388  0.472133  0.565921  0.538716  0.552784\n",
       "6  0.670685  0.345039  0.397908  0.580355  0.535048  0.669316\n",
       "7  0.707940  0.443418  0.570540  0.575411  0.623449  0.789040\n",
       "8  0.521321  0.384308  0.443191  0.761497  0.634183  0.650737\n",
       "9  0.636502  0.529961  0.460497  0.483139  0.444546  0.536523"
      ]
     },
     "execution_count": 9,
     "metadata": {},
     "output_type": "execute_result"
    }
   ],
   "source": [
    "N_conj = 6 # número de conjunto de dados\n",
    "N_medidas = 10 # número de medidas de cada conjunto\n",
    "medidas = pd.DataFrame()\n",
    "for i in range(N_conj):\n",
    "    medidas[str(i)] = [gauss(t,desvio_padrao) for i in range(N_medidas )]\n",
    "\n",
    "medidas"
   ]
  },
  {
   "cell_type": "markdown",
   "id": "d730479b-6e17-4b90-86b8-d761585c56dd",
   "metadata": {},
   "source": [
    "Dicionário de estatísticas (média, desvio padrão, incerteza da média)"
   ]
  },
  {
   "cell_type": "code",
   "execution_count": 11,
   "id": "8b91a05e-50a1-4914-b819-18239ec55325",
   "metadata": {
    "tags": []
   },
   "outputs": [],
   "source": [
    "estatistica = {'media':[], 'desvio':[], 'incerteza':[]}"
   ]
  },
  {
   "cell_type": "code",
   "execution_count": 12,
   "id": "ac431f81-ce38-4fe7-a47d-a87ad30afa2d",
   "metadata": {
    "tags": []
   },
   "outputs": [],
   "source": [
    "media = pd.DataFrame()\n",
    "for i in range(N_conj):\n",
    "    media[str(i)] = [medidas[str(i)].mean()]"
   ]
  },
  {
   "cell_type": "code",
   "execution_count": 54,
   "id": "193ff79e-0fb7-487b-932c-c9755b2cc4e4",
   "metadata": {
    "tags": []
   },
   "outputs": [],
   "source": [
    "desvio = pd.DataFrame()\n",
    "for i in range(N_conj):\n",
    "    desvio[str(i)] = [medidas[str(i)].std()]"
   ]
  },
  {
   "cell_type": "code",
   "execution_count": 14,
   "id": "7b626b09-d72f-4f52-a5f4-22108018b5a7",
   "metadata": {
    "tags": []
   },
   "outputs": [],
   "source": [
    "estatistica['media'] = media\n",
    "estatistica['desvio'] = desvio\n",
    "estatistica['incerteza'] = desvio/((N_medidas)**0.5)"
   ]
  },
  {
   "cell_type": "code",
   "execution_count": 15,
   "id": "8991df11-8a71-43c8-9ce4-2e2cfbfb23bd",
   "metadata": {
    "tags": []
   },
   "outputs": [
    {
     "data": {
      "text/plain": [
       "{'media':           0         1        2         3         4         5\n",
       " 0  0.647627  0.494373  0.50851  0.555182  0.558936  0.636021,\n",
       " 'desvio':           0         1         2         3         4         5\n",
       " 0  0.088649  0.104607  0.074201  0.109359  0.098586  0.116731,\n",
       " 'incerteza':           0        1         2         3         4         5\n",
       " 0  0.028033  0.03308  0.023464  0.034582  0.031176  0.036913}"
      ]
     },
     "execution_count": 15,
     "metadata": {},
     "output_type": "execute_result"
    }
   ],
   "source": [
    "estatistica"
   ]
  },
  {
   "cell_type": "code",
   "execution_count": 53,
   "id": "8921dd45-1185-4065-a4a1-d273013de346",
   "metadata": {
    "tags": []
   },
   "outputs": [
    {
     "data": {
      "text/plain": [
       "<matplotlib.legend.Legend at 0x1fb5153af90>"
      ]
     },
     "execution_count": 53,
     "metadata": {},
     "output_type": "execute_result"
    },
    {
     "data": {
      "image/png": "[encoded data removed]",
      "text/plain": [
       "<Figure size 640x480 with 1 Axes>"
      ]
     },
     "metadata": {},
     "output_type": "display_data"
    }
   ],
   "source": [
    "fig, ax = plt.subplots()\n",
    "\n",
    "x = list(range(N_conj))\n",
    "\n",
    "ax.plot(\n",
    "    x,\n",
    "    t*np.ones(6),\n",
    "    color='blue',\n",
    "    linestyle='dashed',\n",
    "    label='valor de referência'\n",
    ")\n",
    "ax.errorbar(\n",
    "    x,\n",
    "    estatistica['media'].values[0],\n",
    "    yerr = estatistica['incerteza'].values[0],\n",
    "    color='orange',\n",
    "    marker='o',\n",
    "    linestyle='none',\n",
    "    #label=''\n",
    ")\n",
    "\n",
    "\n",
    "ax.set_title('Médias')\n",
    "ax.set_xlabel('conjuntos de medidas')\n",
    "ax.set_ylabel('tempo de queda (s)')\n",
    "ax.legend(loc='upper center', ncols=1)\n"
   ]
  }
 ],
 "metadata": {
  "kernelspec": {
   "display_name": "Python 3 (ipykernel)",
   "language": "python",
   "name": "python3"
  },
  "language_info": {
   "codemirror_mode": {
    "name": "ipython",
    "version": 3
   },
   "file_extension": ".py",
   "mimetype": "text/x-python",
   "name": "python",
   "nbconvert_exporter": "python",
   "pygments_lexer": "ipython3",
   "version": "3.11.5"
  }
 },
 "nbformat": 4,
 "nbformat_minor": 5
}
